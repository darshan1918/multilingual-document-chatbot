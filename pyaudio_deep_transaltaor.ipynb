{
 "cells": [
  {
   "cell_type": "markdown",
   "id": "e6dc29eb-358a-45ad-83dc-9c56220abe40",
   "metadata": {},
   "source": [
    "## What is PyAudio?\n",
    "\n",
    "- PyAudio is a Python library that helps us interact with microphones and speakers.\n",
    "\n",
    "- It allows real-time voice input and audio recording."
   ]
  },
  {
   "cell_type": "code",
   "execution_count": 2,
   "id": "7e144aa8-8a06-448d-8d36-13c467c36c7e",
   "metadata": {},
   "outputs": [],
   "source": [
    "#!pip install pyaudio\n"
   ]
  },
  {
   "cell_type": "code",
   "execution_count": 6,
   "id": "7dfcbffb-70de-4d20-9d87-7d55942e1e91",
   "metadata": {},
   "outputs": [
    {
     "name": "stdout",
     "output_type": "stream",
     "text": [
      "Speak now...\n",
      "You said: Jay Ganesha\n"
     ]
    }
   ],
   "source": [
    "import speech_recognition as sr\n",
    "\n",
    "# Initialize recognizer\n",
    "r = sr.Recognizer()\n",
    "\n",
    "# Use microphone\n",
    "with sr.Microphone() as source:\n",
    "    print(\"Speak now...\")\n",
    "    audio = r.listen(source)\n",
    "text = r.recognize_google(audio)\n",
    "print(\"You said:\", text)\n"
   ]
  },
  {
   "cell_type": "markdown",
   "id": "f8729f3e-4984-43aa-a050-aea9bc940d2b",
   "metadata": {},
   "source": [
    "- sr.Microphone() accesses the mic\n",
    "\n",
    "- r.listen() records voice\n",
    "\n",
    "- r.recognize_google() converts voice to text using Google API"
   ]
  },
  {
   "cell_type": "markdown",
   "id": "00d175da-e9c5-4ea2-aec8-140928535bb4",
   "metadata": {},
   "source": [
    "# 2. deep-translator (Machine Translation)\n",
    "\n",
    "**What is it?**\n",
    "\n",
    "- A Python package to translate text between languages using APIs like Google Translate, LibreTranslate, etc."
   ]
  },
  {
   "cell_type": "code",
   "execution_count": null,
   "id": "b3a93ae1-a3f0-4fb0-b858-c6ad504faa22",
   "metadata": {},
   "outputs": [],
   "source": [
    "#!pip install deep-translator\n"
   ]
  },
  {
   "cell_type": "code",
   "execution_count": 12,
   "id": "41c2097c-c0e6-4305-a4c4-818ba91e243b",
   "metadata": {},
   "outputs": [
    {
     "name": "stdout",
     "output_type": "stream",
     "text": [
      "Hindi: हे दोस्तों मेरा नाम omkar nallagoni है।\n",
      "English: Hey friends, my name is Omkar Nallagoni.\n"
     ]
    }
   ],
   "source": [
    "from deep_translator import GoogleTranslator\n",
    "\n",
    "# Translate English to Hindi\n",
    "text = \"Hey Guys My name is Omkar Nallagoni.\"\n",
    "translated = GoogleTranslator(source='en', target='hi').translate(text)\n",
    "print(\"Hindi:\", translated)\n",
    "\n",
    "# Translate Hindi to English\n",
    "back = GoogleTranslator(source='hi', target='en').translate(translated)\n",
    "print(\"English:\", back)\n"
   ]
  },
  {
   "cell_type": "code",
   "execution_count": null,
   "id": "481c9f30-1a87-4287-81c2-43c7268cae91",
   "metadata": {},
   "outputs": [],
   "source": []
  }
 ],
 "metadata": {
  "kernelspec": {
   "display_name": "Python [conda env:base] *",
   "language": "python",
   "name": "conda-base-py"
  },
  "language_info": {
   "codemirror_mode": {
    "name": "ipython",
    "version": 3
   },
   "file_extension": ".py",
   "mimetype": "text/x-python",
   "name": "python",
   "nbconvert_exporter": "python",
   "pygments_lexer": "ipython3",
   "version": "3.12.7"
  }
 },
 "nbformat": 4,
 "nbformat_minor": 5
}
